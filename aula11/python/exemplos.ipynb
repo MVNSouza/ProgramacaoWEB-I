{
 "cells": [
  {
   "cell_type": "code",
   "execution_count": 2,
   "id": "c8e6dc49",
   "metadata": {},
   "outputs": [
    {
     "name": "stdout",
     "output_type": "stream",
     "text": [
      "{\n",
      "    \"id\": 1001,\n",
      "    \"cliente\": {\n",
      "        \"id\": 1,\n",
      "        \"nome\": \"Alice\"\n",
      "    },\n",
      "    \"itens\": [\n",
      "        {\n",
      "            \"produto\": \"Notebook\",\n",
      "            \"quantidade\": 1,\n",
      "            \"preco\": 3500.0\n",
      "        },\n",
      "        {\n",
      "            \"produto\": \"Mouse\",\n",
      "            \"quantidade\": 2,\n",
      "            \"preco\": 80.0\n",
      "        }\n",
      "    ]\n",
      "}\n",
      "Cliente: Alice\n",
      "Itens: 2\n"
     ]
    }
   ],
   "source": [
    "import json\n",
    "\n",
    "pedido = {\n",
    "    \"id\": 1001,\n",
    "    \"cliente\": {\n",
    "        \"id\": 1,\n",
    "        \"nome\": \"Alice\"\n",
    "    },\n",
    "    \"itens\": [\n",
    "        {\"produto\": \"Notebook\", \"quantidade\": 1, \"preco\": 3500.00},\n",
    "        {\"produto\": \"Mouse\", \"quantidade\": 2, \"preco\": 80.00}\n",
    "    ]\n",
    "}\n",
    "\n",
    "# Serializar (objeto -> JSON string)\n",
    "json_pedido = json.dumps(pedido, indent=4)\n",
    "print(json_pedido)\n",
    "\n",
    "# Desserializar (JSON -> objeto Python)\n",
    "obj = json.loads(json_pedido)\n",
    "print(\"Cliente:\", obj[\"cliente\"][\"nome\"])\n",
    "print(\"Itens:\", len(obj[\"itens\"]))\n"
   ]
  },
  {
   "cell_type": "code",
   "execution_count": null,
   "id": "8e108955",
   "metadata": {},
   "outputs": [],
   "source": [
    "import json\n",
    "\n",
    "aluno = {\"matricula\": 2025001, \"nome\": \"Carlos Silva\", \"curso\": \"ADS\"}\n",
    "\n",
    "# Serializar\n",
    "json_data = json.dumps(aluno)\n",
    "print(\"Serializado:\", json_data)\n",
    "\n",
    "# Desserializar\n",
    "obj = json.loads(json_data)\n",
    "obj[\"curso\"] = \"Engenharia de Software\" # Modificando o valor do campo \"curso\"\n",
    "print(\"Curso:\", obj[\"curso\"])"
   ]
  },
  {
   "cell_type": "code",
   "execution_count": 3,
   "id": "91d64ede",
   "metadata": {},
   "outputs": [
    {
     "name": "stdout",
     "output_type": "stream",
     "text": [
      "Nome: Alice\n",
      "XML serializado:\n",
      " <usuario><id>2</id><nome>Bob</nome><ativo>false</ativo></usuario>\n"
     ]
    }
   ],
   "source": [
    "import xml.etree.ElementTree as ET\n",
    "\n",
    "xml_data = \"\"\"\n",
    "<usuario>\n",
    "    <id>1</id>\n",
    "    <nome>Alice</nome>\n",
    "    <ativo>true</ativo>\n",
    "</usuario>\n",
    "\"\"\"\n",
    "\n",
    "# Desserialização: string XML -> objeto ElementTree\n",
    "root = ET.fromstring(xml_data)\n",
    "print(\"Nome:\", root.find(\"nome\").text)\n",
    "\n",
    "# Serialização: criar XML a partir de dados\n",
    "novo_usuario = ET.Element(\"usuario\")\n",
    "ET.SubElement(novo_usuario, \"id\").text = \"2\"\n",
    "ET.SubElement(novo_usuario, \"nome\").text = \"Bob\"\n",
    "ET.SubElement(novo_usuario, \"ativo\").text = \"false\"\n",
    "\n",
    "xml_serializado = ET.tostring(novo_usuario, encoding=\"unicode\")\n",
    "print(\"XML serializado:\\n\", xml_serializado)"
   ]
  }
 ],
 "metadata": {
  "kernelspec": {
   "display_name": "Python 3",
   "language": "python",
   "name": "python3"
  },
  "language_info": {
   "codemirror_mode": {
    "name": "ipython",
    "version": 3
   },
   "file_extension": ".py",
   "mimetype": "text/x-python",
   "name": "python",
   "nbconvert_exporter": "python",
   "pygments_lexer": "ipython3",
   "version": "3.13.4"
  }
 },
 "nbformat": 4,
 "nbformat_minor": 5
}
